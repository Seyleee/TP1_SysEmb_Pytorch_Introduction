{
  "nbformat": 4,
  "nbformat_minor": 0,
  "metadata": {
    "colab": {
      "name": "TPFA_SysEmb_BOUFDIL_Elyes.ipynb",
      "provenance": [],
      "collapsed_sections": []
    },
    "kernelspec": {
      "name": "python3",
      "display_name": "Python 3"
    },
    "accelerator": "GPU"
  },
  "cells": [
    {
      "cell_type": "markdown",
      "metadata": {
        "id": "EcqLiuHLezpy",
        "colab_type": "text"
      },
      "source": [
        "#Introduction à PyTorch :\n",
        "\n",
        "Ce TP donne une initiation auframework de Machine/Deep Learning PyTorch en utilisant leserviceGoogle Colab. Ce TP a pour objectifs : \n",
        "- Comprendre la bibliothèque Tensor PyTorch et les réseaux de neurones.\n",
        "- Construire et entrainer un réseaux de neurones pour la classification des images."
      ]
    },
    {
      "cell_type": "markdown",
      "metadata": {
        "id": "hndSkzB-hUsi",
        "colab_type": "text"
      },
      "source": [
        "##PyTorch :\n",
        "\n",
        "*PyTorch* est une bibliothèque de Machine/Deep Learning qui lie la ré-utilisabilité et la performance des outils de  Machine/Deep Learning :\n",
        "- PyTorch fournit un style de programmation imp ́eratif et ”Pythonic” qui prend en charge lecode en tant que modèle. \n",
        "- PyTorch facilite le d ́ebogage et est compatible avec d’autres bibliothèques informatiques scientifiques populaire. \n",
        "- PyTorch prend en charge les accélérateurs matériels tels que comme GPU.  \n"
      ]
    },
    {
      "cell_type": "markdown",
      "metadata": {
        "id": "OemR8Y3fyhPp",
        "colab_type": "text"
      },
      "source": [
        "Nous allons aborder quelques aspect lies aux Deep Learning en utilisant PyTorch.  \n",
        "Nous finironspar un exemple d’utilisation de ces mod`eles pour la classification d’images sur plusieurs platformes matèriels."
      ]
    },
    {
      "cell_type": "markdown",
      "metadata": {
        "id": "VOCkGyy2lsJt",
        "colab_type": "text"
      },
      "source": [
        "##Google Colab :\n",
        "Google Colaboratory plus communément appele  *Google  Colab* ou tout simplement *Colab* est un projet de recherche pour le prototypage de modèles de Machine Learning sur des plates-formes matérielles puissantes telles que les GPU et les TPU. *Google Colab* fournit un environnement de notebook *Jupyter* sur serveur pour le développement interactif. Google Colab est gratuit à utiliser comme les autres produits du *G Suite*."
      ]
    },
    {
      "cell_type": "markdown",
      "metadata": {
        "id": "bW71LY6qmvIM",
        "colab_type": "text"
      },
      "source": [
        "##Préparation de l'environnement de développement :\n",
        "**NOTE** : comme Google Colaboratory est un service cloud de Google, il faut s'assurer d'avoir uncompte Gmail afin de pouvoir l'utiliser.  \n",
        "\n",
        "- **Première connexion** : en utilisant un navigateur web, connectez-vous https://colab.research.google.com/en utilisant votre  compte  Gmail. Vous allez être redirige vers une page introduisant Google  Colab. Commencez à prendre en main quelques concepts basiques du developpement sous Colab : exécuter les cellules codes existantes, en rajouter  d'autres, ajouter des cellules Markdown, etc.  \n",
        "- **Création d'un Notebook** : cliquez sur ***Fichier→Nouveau notebook***. Changez le nom du notebook en double-cliquant sur **Untitled** en haut à gauche de la page en le remplaçant par un nom du format suivant : **TP\\[formation\\]\\[matière\\]\\[NOM\\]\\[PRENOM\\]**. Ce notebook vous suivra tout au long du TP. Le notebook devra être rendu à la fin des TP.  \n",
        "- **Importation d'un Notebook** : cliquez sur ***Fichier→Ouvrir*** un notebook.  Localisez le notebook que vous trouverez avec l'ennoncé et faites ouvrir aprés l'avoir renommer suivant lacharte pr ́ec ́edente. C'est plus simple de travailler sur le carnet donné en TP que de le recréer à zero.  \n",
        "- **Création et exécution des cellules** : il existe principalement deux types  de cellules :\n",
        "1. `+ Code` pour code Python ou commande notebook/shell\n",
        "2. `+ Texte` pour code Markdown ou HTML  \n",
        "Pour exécuter une cellule, il faut cliquer sur le boutton 'Play' à gauche de la cellule, utliser le raccourci ***Shift+Entrée***, ou cluquer sur `Exécution` puis `Exécuter le code selectionné`.\n",
        "- **Environnement d'exécution CPU/GPU/TPU** : google colab offre principalement trois plateformes d'exécution : 1) CPU (noté `None`), 2) GPU, et 3) TPU. \n",
        "Pour passer d'une platforme à une  autre, cliquez sur `Exécution`, `Modifier le type d'exécution`, le menu déroulant du `Accelerateur matériel` puis choisir la plateforme."
      ]
    },
    {
      "cell_type": "markdown",
      "metadata": {
        "id": "EZaz2YzowbWi",
        "colab_type": "text"
      },
      "source": [
        "#Introduction au Deep Learning avec PyTorch\n",
        "Cette introduction suppose la maitrise de la bibliothèque `numpy`.\n",
        "##Installation PyTorch\n",
        "Nous devrons d'abord installer la bibliothèque PyTorch. Vous pouvez le faire en utilisant la commande suivante :"
      ]
    },
    {
      "cell_type": "code",
      "metadata": {
        "id": "oiSxDapdmprc",
        "colab_type": "code",
        "colab": {}
      },
      "source": [
        "!pip3 install torch torchvision"
      ],
      "execution_count": 0,
      "outputs": []
    },
    {
      "cell_type": "markdown",
      "metadata": {
        "id": "nT3C_rCodryN",
        "colab_type": "text"
      },
      "source": [
        "###Tensors :\n",
        "Un `Tensor` est une unité de stockage de données communément utilisée dans le domaine du Deep Learning. Comme `ndarray` dans `numpy`, un `Tensor` c'est généralement un tableau de `n` dimensions, adapté à une exécution sur GPU.  \n",
        "Nous allons explorer quelques aspects sur les `Tensors`, en commençant par importer le package `torch` qui représente PyTorch.  "
      ]
    },
    {
      "cell_type": "code",
      "metadata": {
        "id": "kM-inE6qrVaM",
        "colab_type": "code",
        "colab": {}
      },
      "source": [
        "from __future__ import print_function\n",
        "import torch"
      ],
      "execution_count": 0,
      "outputs": []
    },
    {
      "cell_type": "markdown",
      "metadata": {
        "id": "BdS547CStcoh",
        "colab_type": "text"
      },
      "source": [
        "Nou pouvons d'abord déclarer une matrice sans initialisation de ses valeurs.  \n",
        "Nous déclarons une matrice sur PyTorch comme suit :"
      ]
    },
    {
      "cell_type": "code",
      "metadata": {
        "id": "gXE5QQIytEoO",
        "colab_type": "code",
        "colab": {}
      },
      "source": [
        "x = torch.empty(5, 3)\n",
        "print(x)"
      ],
      "execution_count": 0,
      "outputs": []
    },
    {
      "cell_type": "markdown",
      "metadata": {
        "id": "SpRI8Kp1udSV",
        "colab_type": "text"
      },
      "source": [
        "Lorsqu'une matrice non initialisée est créée, les valeurs qui étaient dans la mémoire allouée à ce moment-là apparaîtront comme valeurs initiales. Nous pouvons déclarer une matrice, aléatoirement initialisée avec des valeurs réelles comprises entre 0 et 1 : "
      ]
    },
    {
      "cell_type": "code",
      "metadata": {
        "id": "lbbasG4AuRcn",
        "colab_type": "code",
        "colab": {}
      },
      "source": [
        "x = torch.rand(5, 3)\n",
        "print(x)"
      ],
      "execution_count": 0,
      "outputs": []
    },
    {
      "cell_type": "markdown",
      "metadata": {
        "id": "pRfLkhoMwqtF",
        "colab_type": "text"
      },
      "source": [
        "Pour créer une matrice aléatoirement initialisée avec des entiers générer entre 1 et 10 : "
      ]
    },
    {
      "cell_type": "code",
      "metadata": {
        "id": "d0EKw2-cu3qb",
        "colab_type": "code",
        "colab": {}
      },
      "source": [
        "x =  torch.randint(1, 10, (5, 3))\n",
        "print(x)"
      ],
      "execution_count": 0,
      "outputs": []
    },
    {
      "cell_type": "markdown",
      "metadata": {
        "id": "-3lTPlpDzP0X",
        "colab_type": "text"
      },
      "source": [
        "Déclarer une matrice remplie de zéros et de `dtype` (i.e. data type) long qui est un entier sur 64 bits :"
      ]
    },
    {
      "cell_type": "code",
      "metadata": {
        "id": "UQ-rMCTkxmoJ",
        "colab_type": "code",
        "colab": {}
      },
      "source": [
        "x = torch.zeros(5, 3, dtype=torch.long)\n",
        "print(x)"
      ],
      "execution_count": 0,
      "outputs": []
    },
    {
      "cell_type": "markdown",
      "metadata": {
        "id": "WRWEERSH0fj9",
        "colab_type": "text"
      },
      "source": [
        "Nou pouvons s'assurer du type de la variable `x` en utilisant la fonction `type()` :"
      ]
    },
    {
      "cell_type": "code",
      "metadata": {
        "id": "Xf9PS0uXzn5C",
        "colab_type": "code",
        "colab": {}
      },
      "source": [
        "type(x)"
      ],
      "execution_count": 0,
      "outputs": []
    },
    {
      "cell_type": "markdown",
      "metadata": {
        "id": "9wq-HWKI1MFI",
        "colab_type": "text"
      },
      "source": [
        "Nous pouvons créer un `Tensor` directement à partir des valeurs prédéfinies :"
      ]
    },
    {
      "cell_type": "code",
      "metadata": {
        "id": "2XMYz-aR0sDb",
        "colab_type": "code",
        "colab": {}
      },
      "source": [
        "x = torch.tensor([[0,1,2], [3,4,5], [6,7,8], [-6,-7,-8], [-3,-4,-5]])\n",
        "print(x)"
      ],
      "execution_count": 0,
      "outputs": []
    },
    {
      "cell_type": "markdown",
      "metadata": {
        "id": "4JpeE-7n2NOc",
        "colab_type": "text"
      },
      "source": [
        "On peut créer un `tensor` basé sur un autre `tensor` existant. Ces méthodes réutilisent les propriétés du `tensor` d'entrée :"
      ]
    },
    {
      "cell_type": "code",
      "metadata": {
        "id": "ZnevBnQY1hT3",
        "colab_type": "code",
        "colab": {}
      },
      "source": [
        "x = x.new_zeros(5,3, dtype=torch.double)\n",
        "print(x)"
      ],
      "execution_count": 0,
      "outputs": []
    },
    {
      "cell_type": "markdown",
      "metadata": {
        "id": "5jsXsaV53mg-",
        "colab_type": "text"
      },
      "source": [
        "Voir https://pytorch.org/docs/stable/torch.html#torch.randint_like pour regénerer un `tensor` initialisé avec des valeurs aléatoires en se basant sur un `tensor` existant :"
      ]
    },
    {
      "cell_type": "code",
      "metadata": {
        "id": "537BK6J03Hjf",
        "colab_type": "code",
        "colab": {}
      },
      "source": [
        "x = torch.randn_like(x, dtype=torch.float)    # override dtype!\n",
        "print(x)"
      ],
      "execution_count": 0,
      "outputs": []
    },
    {
      "cell_type": "markdown",
      "metadata": {
        "id": "J-JRnnXW4Mor",
        "colab_type": "text"
      },
      "source": [
        "### Opérations sur les `Tensor`\n",
        "Les opérations sur les `tensor` peuvent être directement appliquée sur ces dérniers comme suit : "
      ]
    },
    {
      "cell_type": "code",
      "metadata": {
        "id": "gD-6Opia3aBR",
        "colab_type": "code",
        "colab": {}
      },
      "source": [
        "y = torch.rand(5, 3)\n",
        "print(x + y)"
      ],
      "execution_count": 0,
      "outputs": []
    },
    {
      "cell_type": "markdown",
      "metadata": {
        "id": "9K6J_8mX5KW_",
        "colab_type": "text"
      },
      "source": [
        "Ou bien utiliser des fonctions prédéfinies de PyTorch :"
      ]
    },
    {
      "cell_type": "code",
      "metadata": {
        "id": "b98XF7Dr4u-m",
        "colab_type": "code",
        "colab": {}
      },
      "source": [
        "print(torch.add(x,y))"
      ],
      "execution_count": 0,
      "outputs": []
    },
    {
      "cell_type": "markdown",
      "metadata": {
        "id": "WuuhKuCT54oe",
        "colab_type": "text"
      },
      "source": [
        "Le résultat pourrait être récupéré en passant un `tensor` (noté `z`) comme argument :"
      ]
    },
    {
      "cell_type": "code",
      "metadata": {
        "id": "E8nViOhB5XHW",
        "colab_type": "code",
        "colab": {}
      },
      "source": [
        "z = torch.empty(5,3)\n",
        "torch.add(x,y,out=z)\n",
        "print(z)"
      ],
      "execution_count": 0,
      "outputs": []
    },
    {
      "cell_type": "markdown",
      "metadata": {
        "id": "21kA0m4Q6qJR",
        "colab_type": "text"
      },
      "source": [
        "Un opération sur un `tensor` pourrait être faite `in-place` (généralement suivi par `_`), c'est à dire que le résultat est stocké dans le `tensor` appelant de la fonction et repmlacera donc l'anciène valeur : "
      ]
    },
    {
      "cell_type": "code",
      "metadata": {
        "id": "LpT-j2Oa6YCq",
        "colab_type": "code",
        "colab": {}
      },
      "source": [
        "y.add_(x)\n",
        "print(y)"
      ],
      "execution_count": 0,
      "outputs": []
    },
    {
      "cell_type": "markdown",
      "metadata": {
        "id": "O81BvZCLN-uR",
        "colab_type": "text"
      },
      "source": [
        "Nous pouvons utiliser la notation de `numpy` pour manipuler les `tensor` sur PyTorch. Afficher la première colonne comme suit : "
      ]
    },
    {
      "cell_type": "code",
      "metadata": {
        "id": "xSDqdSBu7prk",
        "colab_type": "code",
        "colab": {}
      },
      "source": [
        "print(y[:, 0])"
      ],
      "execution_count": 0,
      "outputs": []
    },
    {
      "cell_type": "markdown",
      "metadata": {
        "id": "gz77TZLwp-cc",
        "colab_type": "text"
      },
      "source": [
        "Il y a donc un lien entre les `tensor` PyTorch et les `NumPy Array`.  \n",
        "Les modules `Torch Tensor` et `NumPy` partageront le même éspace mémoire (si le Torch Tensor est sur CPU), et changer l'un changera l'autre.  \n",
        "On peut convertir un `tensor` PyTorch en un `array` Numpy commme suit :"
      ]
    },
    {
      "cell_type": "code",
      "metadata": {
        "id": "UhWWxsSK72sE",
        "colab_type": "code",
        "colab": {}
      },
      "source": [
        "a = torch.rand(5)\n",
        "print(\"a : \", a)\n",
        "b = a.numpy()\n",
        "print(\"b : \", b)"
      ],
      "execution_count": 0,
      "outputs": []
    },
    {
      "cell_type": "markdown",
      "metadata": {
        "id": "MRFnAL2JtFuZ",
        "colab_type": "text"
      },
      "source": [
        "Si l'on change la valeur du `tensor` PyTorch, la valeur du `array` Numpy change également:"
      ]
    },
    {
      "cell_type": "code",
      "metadata": {
        "id": "bcLLc0j3sq3x",
        "colab_type": "code",
        "colab": {}
      },
      "source": [
        "a.add_(1)\n",
        "print(\"a : \", a)\n",
        "print(\"b : \", b)"
      ],
      "execution_count": 0,
      "outputs": []
    },
    {
      "cell_type": "markdown",
      "metadata": {
        "id": "oMMf5YE0ufFs",
        "colab_type": "text"
      },
      "source": [
        "On peut faire la conversion dans le sens inverse :"
      ]
    },
    {
      "cell_type": "code",
      "metadata": {
        "id": "GuCF5262tcj1",
        "colab_type": "code",
        "colab": {}
      },
      "source": [
        "import numpy as np\n",
        "# Générer un tableau aléatoirement initilisé\n",
        "a = np.random.rand(5)\n",
        "# Convertir le tableau en un tensor PyTorch\n",
        "b = torch.from_numpy(a)\n",
        "\n",
        "np.add(a, 1, out=a)\n",
        "print(\"a : \", a)\n",
        "print(\"b : \", b)"
      ],
      "execution_count": 0,
      "outputs": []
    },
    {
      "cell_type": "markdown",
      "metadata": {
        "id": "VllNJF26vkyg",
        "colab_type": "text"
      },
      "source": [
        "Jusqu'à présent, tous les `tensor` créés sont traité sue CPU.  \n",
        "`PyTorch` offre la possibilité de transférer les `tensor` sur GPU (c'est d'ailleurs la différence entre `Numpy` et `PyTorch`).  \n",
        "Les `tensor` peuvent donc être transférés entre CPU <-> GPU en utilisant la méthode `.to()`. "
      ]
    },
    {
      "cell_type": "markdown",
      "metadata": {
        "id": "ihR5YTSjwThU",
        "colab_type": "text"
      },
      "source": [
        "###Les Tensors CUDA \n",
        "Il faut d'abord changer le type de l'accélérateur matériel en GPU afin de pour utiliser les `CUDA tensor`."
      ]
    },
    {
      "cell_type": "code",
      "metadata": {
        "id": "A749GtkW3vX9",
        "colab_type": "code",
        "outputId": "d65b8579-37bc-4f70-ff61-20334e09c559",
        "colab": {
          "base_uri": "https://localhost:8080/",
          "height": 34
        }
      },
      "source": [
        "device = \"cpu\"\n",
        "if torch.cuda.is_available():\n",
        "  device = torch.device(\"cuda\")\n",
        "print(device)"
      ],
      "execution_count": 0,
      "outputs": [
        {
          "output_type": "stream",
          "text": [
            "cuda\n"
          ],
          "name": "stdout"
        }
      ]
    },
    {
      "cell_type": "markdown",
      "metadata": {
        "id": "D5o-nWaZ5_xh",
        "colab_type": "text"
      },
      "source": [
        "On peut créer le `tensor` directement sur GPU en le passant en paramètre :"
      ]
    },
    {
      "cell_type": "code",
      "metadata": {
        "id": "Ylzlm0CFuu0Y",
        "colab_type": "code",
        "colab": {}
      },
      "source": [
        "%%time\n",
        "x = torch.rand(5, device=device)\n",
        "y = torch.ones(5, device=device)\n",
        "x.add_(y)\n",
        "print(x)"
      ],
      "execution_count": 0,
      "outputs": []
    },
    {
      "cell_type": "markdown",
      "metadata": {
        "id": "VYSWjLro6XrY",
        "colab_type": "text"
      },
      "source": [
        "On peut créer le `tensor` sur CPU puis le transférer sur GPU :"
      ]
    },
    {
      "cell_type": "markdown",
      "metadata": {
        "id": "cu7D7NEkXqes",
        "colab_type": "text"
      },
      "source": [
        "Pour déconnexion:\n",
        "\n",
        "\n"
      ]
    },
    {
      "cell_type": "code",
      "metadata": {
        "id": "d_DG_4JYXv0C",
        "colab_type": "code",
        "colab": {}
      },
      "source": [
        "from __future__ import print_function\n",
        "import torch\n",
        "import numpy as np\n",
        "from datetime import datetime, timedelta"
      ],
      "execution_count": 0,
      "outputs": []
    },
    {
      "cell_type": "markdown",
      "metadata": {
        "id": "SWEiM4Ly6r22",
        "colab_type": "text"
      },
      "source": [
        "***Excercise*** : \n",
        "- Coder des functions de calcul des opérations élémentaires sur des matrices sur CPU et sur GPU en utilisant `torch` (e.g. `matrix_add_CPU(a, b), matrix_add_GPU(a,b)`. \n",
        "- Mesurer les temps d'exécutions des fonctions codées puis comparer les en utilisant un histogramme `pyplot`.\n",
        "- Que remarquiez-vous?"
      ]
    },
    {
      "cell_type": "markdown",
      "metadata": {
        "id": "snSL9OguYEeR",
        "colab_type": "text"
      },
      "source": [
        "# Addition:"
      ]
    },
    {
      "cell_type": "code",
      "metadata": {
        "id": "SWlMorkA0dqn",
        "colab_type": "code",
        "outputId": "df2d1c70-9a5a-4d7d-ae4d-d657a3cd115e",
        "colab": {
          "base_uri": "https://localhost:8080/",
          "height": 50
        }
      },
      "source": [
        "a = torch.rand(1000000, device=\"cpu\")\n",
        "b = torch.ones(1000000, device=\"cpu\")\n",
        "c = torch.empty(1000000, device=\"cpu\")\n",
        "\n",
        "start_time_CPU = datetime.now()\n",
        "c = torch.add(a,b)\n",
        "end_time_CPU = datetime.now()\n",
        "#print(\"Sur CPU : \",c)\n",
        "\n",
        "a = a.to(device)\n",
        "b = b.to(device)\n",
        "\n",
        "start_time_GPU = datetime.now()\n",
        "c = torch.add(a,b).to(device)\n",
        "end_time_GPU = datetime.now()\n",
        "#print(\"Sur GPU : \", c)\n",
        "\n",
        "Add_CPU = end_time_CPU - start_time_CPU\n",
        "Add_GPU = end_time_GPU - start_time_GPU\n",
        "print(\"CPU :\", Add_CPU,\"secondes\")\n",
        "print(\"GPU :\", Add_GPU,\"secondes\")"
      ],
      "execution_count": 0,
      "outputs": [
        {
          "output_type": "stream",
          "text": [
            "CPU : 0:00:00.001509 secondes\n",
            "GPU : 0:00:00.000212 secondes\n"
          ],
          "name": "stdout"
        }
      ]
    },
    {
      "cell_type": "markdown",
      "metadata": {
        "id": "HjT_XFpPYGTq",
        "colab_type": "text"
      },
      "source": [
        "# Multiplication:"
      ]
    },
    {
      "cell_type": "code",
      "metadata": {
        "id": "m17JLfqsYISB",
        "colab_type": "code",
        "outputId": "b009e519-4cd6-4c34-f97b-b4f97e113157",
        "colab": {
          "base_uri": "https://localhost:8080/",
          "height": 84
        }
      },
      "source": [
        "\n",
        "a = torch.rand(1000000, device=\"cpu\")\n",
        "d = torch.empty(1000000, device=\"cpu\")\n",
        "\n",
        "start_time_CPU = datetime.now()\n",
        "d = torch.mul(a,3)\n",
        "end_time_CPU = datetime.now()\n",
        "print(\"Multiplication d'une matrice par un entier sur CPU : \",d)\n",
        "\n",
        "a = a.to(device)\n",
        "\n",
        "start_time_GPU = datetime.now()\n",
        "d = torch.mul(a,3).to(device)\n",
        "end_time_GPU = datetime.now()\n",
        "print(\"Multiplication d'une matrice par un entier sur GPU : \", d)\n",
        "\n",
        "\n",
        "Mult_CPU = end_time_CPU - start_time_CPU\n",
        "Mult_GPU = end_time_GPU - start_time_GPU\n",
        "print(\"temps CPU :\", Mult_CPU)\n",
        "print(\"temps GPU :\", Mult_GPU)"
      ],
      "execution_count": 0,
      "outputs": [
        {
          "output_type": "stream",
          "text": [
            "Multiplication d'une matrice par un entier sur CPU :  tensor([0.2191, 2.4430, 2.5224,  ..., 2.8394, 2.8226, 2.7222])\n",
            "Multiplication d'une matrice par un entier sur GPU :  tensor([0.2191, 2.4430, 2.5224,  ..., 2.8394, 2.8226, 2.7222], device='cuda:0')\n",
            "temps CPU : 0:00:00.001595\n",
            "temps GPU : 0:00:00.000355\n"
          ],
          "name": "stdout"
        }
      ]
    },
    {
      "cell_type": "markdown",
      "metadata": {
        "id": "5BzZgnDoZajp",
        "colab_type": "text"
      },
      "source": [
        "Mult GPU"
      ]
    },
    {
      "cell_type": "markdown",
      "metadata": {
        "id": "PVysqNN5aRRZ",
        "colab_type": "text"
      },
      "source": [
        "# Produit de matrice:"
      ]
    },
    {
      "cell_type": "code",
      "metadata": {
        "id": "mdgj7tslaZX6",
        "colab_type": "code",
        "outputId": "f766f173-6386-40c1-9254-12bad868ece2",
        "colab": {
          "base_uri": "https://localhost:8080/",
          "height": 84
        }
      },
      "source": [
        "\n",
        "a = torch.rand(1000000, device=\"cpu\")\n",
        "b = torch.ones(1000000, device=\"cpu\")\n",
        "e = torch.empty(1000000, device=\"cpu\")\n",
        "\n",
        "start_time_CPU = datetime.now()\n",
        "e = torch.dot(a, b)\n",
        "end_time_CPU = datetime.now()\n",
        "print(\"Produit matriciel de deux matrices sur CPU : \",e)\n",
        "\n",
        "a = a.to(device)\n",
        "b = b.to(device)\n",
        "\n",
        "start_time_GPU = datetime.now()\n",
        "e = torch.dot(a, b).to(device)\n",
        "end_time_GPU = datetime.now()\n",
        "print(\"Produit matriciel de deux matrices sur GPU : \", e)\n",
        "\n",
        "\n",
        "Dot_CPU = end_time_CPU - start_time_CPU\n",
        "Dot_GPU = end_time_GPU - start_time_GPU\n",
        "print(\"temps CPU :\", Dot_CPU)\n",
        "print(\"temps GPU :\", Dot_GPU)"
      ],
      "execution_count": 0,
      "outputs": [
        {
          "output_type": "stream",
          "text": [
            "Produit matriciel de deux matrices sur CPU :  tensor(500135.1250)\n",
            "Produit matriciel de deux matrices sur GPU :  tensor(500135.0625, device='cuda:0')\n",
            "temps CPU : 0:00:00.000870\n",
            "temps GPU : 0:00:00.000238\n"
          ],
          "name": "stdout"
        }
      ]
    },
    {
      "cell_type": "markdown",
      "metadata": {
        "id": "loj6aioi4Gp3",
        "colab_type": "text"
      },
      "source": [
        "Convertire datetime en float pour pouvoir les reutiliser directement dans le graphique:"
      ]
    },
    {
      "cell_type": "code",
      "metadata": {
        "id": "FVDxdZ_VaZ2i",
        "colab_type": "code",
        "colab": {}
      },
      "source": [
        "Add_CPU = Add_CPU.total_seconds()\n",
        "Add_GPU = Add_GPU.total_seconds()\n",
        "\n",
        "Mult_CPU = Mult_CPU.total_seconds()\n",
        "Mult_GPU = Mult_GPU.total_seconds()\n",
        "\n",
        "Dot_CPU = Dot_CPU.total_seconds()\n",
        "Dot_GPU = Dot_GPU.total_seconds()"
      ],
      "execution_count": 0,
      "outputs": []
    },
    {
      "cell_type": "markdown",
      "metadata": {
        "id": "QG8EajW3abhW",
        "colab_type": "text"
      },
      "source": [
        "# Graphique temps obtenu"
      ]
    },
    {
      "cell_type": "code",
      "metadata": {
        "id": "SbwAqVbO3dRZ",
        "colab_type": "code",
        "outputId": "bef34114-7911-4251-e6f4-e517e136ba48",
        "colab": {
          "base_uri": "https://localhost:8080/",
          "height": 280
        }
      },
      "source": [
        "%matplotlib inline\n",
        "import matplotlib.pyplot as plt\n",
        "width = 0.5\n",
        "mesures = {\"Add_CPU\":Add_CPU, \"Add_GPU\":Add_GPU, \"Mult_CPU\": Mult_CPU, \"Mult_GPU\": Mult_GPU, \"Dot_CPU\": Dot_CPU, \"Dot_GPU\": Dot_GPU}\n",
        "plt.bar(mesures.keys(), mesures.values(), width, color='r')\n",
        "plt.xlabel(\"Fonctions & Plateformes\")\n",
        "plt.ylabel(\"Temps d'exécution\")\n",
        "plt.grid(b=True, which='major', axis='both', linestyle='--')\n",
        "plt.show()"
      ],
      "execution_count": 0,
      "outputs": [
        {
          "output_type": "display_data",
          "data": {
            "image/png": "[encoded data removed]",
            "text/plain": [
              "<Figure size 432x288 with 1 Axes>"
            ]
          },
          "metadata": {
            "tags": [],
            "needs_background": "light"
          }
        }
      ]
    },
    {
      "cell_type": "markdown",
      "metadata": {
        "id": "NI096YhTy_fh",
        "colab_type": "text"
      },
      "source": [
        "- Après plusieurs test on peut vite remarquer que les temps d'executions sur CPU et GPU sont sensiblements les mêmes lorsque les tailles des matrices sont faibles, mais arrivé à une taille importante des matrices sur lesquels on exécute les opérations, on remarque l'énorme différence de temps de calcul (comme on peut le voir sur le graphique). "
      ]
    },
    {
      "cell_type": "markdown",
      "metadata": {
        "id": "Wv9JZyLkOses",
        "colab_type": "text"
      },
      "source": [
        "###La convolution :\n",
        "La cnvolution est la base des réseau neuronal convolutif. \n",
        "Comme le montre la figure ci-dessous, la convolution (à deux dimensions dans nôtre cas) consiste à appliquer un filtre 2D (également appelé noyau) sur une matrice d'une taille plus grande, en appliquant une multiplication élément à élément, suivie d'une somme des résultats de multiplication. \n",
        "En plus de la matrice en entrée et du filtre, la convolution prend également un pas (*stride* en anglais) et une marge (*padding* en anglais). Le pas contrôle le mouvement du filtre sur la matrice en entrée tandis que la marge spécifie le nombre de lignes/colonnes contenant des zéros à ajouter à la frontière de la matrice en entrée. Dans l'exemple ci-dessous, le pas et la marge sont fixés à 1.\n",
        "![](https://i.stack.imgur.com/9OZKF.gif)"
      ]
    },
    {
      "cell_type": "markdown",
      "metadata": {
        "id": "fmwjOycxThN9",
        "colab_type": "text"
      },
      "source": [
        "***Exercice*** : \n",
        "1. Proposez deux implémentations d'une convolution 2D tel que:\n",
        "  - `my_2D_Conv_CPU(matrix, kernel, stride, padding)` une convolution 2D sur CPU\n",
        "  - `my_2D_Conv_CPU(matrix, kernel, stride, padding)` une convolution 2D sur GPU\n",
        "avec `matrix` la matrice en entrée, `kernel` qui est le filtre, le pas `stride`, et la marge `padding`.  \n",
        "Afin de tester votre implémentation, ajuster les valeurs du `stride` et du `padding` afin de garder les mêmes dimensions de la matrice en entrée après l'application de la convolution.\n",
        "2. Proposez une implémentation d'une fonction de visualisation d'une matrice sous forme d'image. Pour ceci, vous pouvez utiliser la fonction `imshow()` de `pyplot`.\n",
        "3. Toujours en s'assurant que les dimensions de l'image en sortie restent les mêmes après la convolution, suivez l'exemple ci-dessous en testant votre implémentation sur l'image donnée dans l'exemple avec les filtres suivants :  \n",
        "$$a = \\begin{bmatrix} 1 & 0 & 1 \\\\ 0 & 1 & 0 \\\\ 1 & 0 & 1 \\end{bmatrix}$$  \n",
        "$$b = \\begin{bmatrix} 1 & 0 & 0 \\\\ 0 & 1 & 0 \\\\ 0 & 0 & 1 \\end{bmatrix}$$  \n",
        "$$c = \\begin{bmatrix} 0 & 0 & 1 \\\\ 0 & 1 & 0 \\\\ 1 & 0 & 0 \\end{bmatrix}$$\n",
        "4. Affichez les images avant et aprés la comnvolution. Que remarquiez-vous?\n",
        "5. Refaites le même traitement avec les fltres $a$, $b$, et $c$ en changeant leur taille comme suit : 5x5, 7x7, et en ajustant les veleurs du `du stride` et du `padding`.\n",
        "6. Comparez les temps d'exécution des deux implémentations de la convolution, CPU vs GPU sous forme d'histogramme. \n"
      ]
    },
    {
      "cell_type": "markdown",
      "metadata": {
        "id": "FT8ci5mw1X_Q",
        "colab_type": "text"
      },
      "source": [
        "# **Exercice:** "
      ]
    },
    {
      "cell_type": "markdown",
      "metadata": {
        "id": "pmiUrQt41PFG",
        "colab_type": "text"
      },
      "source": [
        "# 1. Implémentation de convolution 2D:"
      ]
    },
    {
      "cell_type": "code",
      "metadata": {
        "id": "bc0DtvzM1n8v",
        "colab_type": "code",
        "colab": {
          "base_uri": "https://localhost:8080/",
          "height": 35
        },
        "outputId": "ca6f1b26-74ef-4b01-8b20-fbc6f6f02783"
      },
      "source": [
        "from __future__ import print_function\n",
        "import torch\n",
        "import numpy as np\n",
        "import math\n",
        "from datetime import datetime, timedelta\n",
        "\n",
        "device = \"cpu\"\n",
        "if torch.cuda.is_available():\n",
        "  device = torch.device(\"cuda\")\n",
        "print(device)"
      ],
      "execution_count": 3,
      "outputs": [
        {
          "output_type": "stream",
          "text": [
            "cuda\n"
          ],
          "name": "stdout"
        }
      ]
    },
    {
      "cell_type": "markdown",
      "metadata": {
        "id": "sSfCfTOV1tUM",
        "colab_type": "text"
      },
      "source": [
        "Fonctions annexes"
      ]
    },
    {
      "cell_type": "code",
      "metadata": {
        "id": "We2Z3lDh13HD",
        "colab_type": "code",
        "colab": {}
      },
      "source": [
        "#construction de l'image de la matrice en fonction du padding\n",
        "def image_matrix(matrix, row, column, padding):\n",
        "  row_image = row + (2*padding)\n",
        "  column_image = column + (2*padding)\n",
        "  image = torch.zeros((row_image, column_image))\n",
        "  image[padding: -padding, padding: -padding] = matrix\n",
        "  return (image) \n",
        "\n",
        "#calcul la valeur pour une case de la matrice de sortie\n",
        "def cal_val(mult, row_kernel, column_kernel):\n",
        "  val = 0\n",
        "  for i in range (0, row_kernel):\n",
        "    for j in range (0, column_kernel):\n",
        "      val += mult[i, j]\n",
        "  return (val)\n",
        "\n",
        "#calcul dimension matrice de sortie\n",
        "def val_indice_output(stride, row, column):\n",
        "  if (row%stride)==0:\n",
        "    new_row = row/stride\n",
        "  else:\n",
        "    new_row = math.ceil(row/stride)\n",
        "  if (column%stride)==0:\n",
        "    new_clm = column/stride\n",
        "  else:\n",
        "    new_clm = math.ceil(column/stride)\n",
        "  return (int(new_row), int(new_clm))"
      ],
      "execution_count": 0,
      "outputs": []
    },
    {
      "cell_type": "markdown",
      "metadata": {
        "id": "ZxoZQkrW2Cuq",
        "colab_type": "text"
      },
      "source": [
        "Fonction de convolution:"
      ]
    },
    {
      "cell_type": "code",
      "metadata": {
        "id": "V1rwAR_L2GTz",
        "colab_type": "code",
        "colab": {}
      },
      "source": [
        "def my_2D_Conv_CPU(matrix, kernel, stride, padding):\n",
        "  #Variables\n",
        "  row = int(matrix.size()[0])\n",
        "  column = int(matrix.size()[1])\n",
        "  row_kernel = int(kernel.size()[0])\n",
        "  column_kernel = int(kernel.size()[1])\n",
        "\n",
        "  #Init image\n",
        "  image = image_matrix(matrix, row, column, padding)\n",
        "  row_image = int(image.size()[0])\n",
        "  column_image = int(image.size()[1])\n",
        "  #print(\"Matrice image :\\n\", image,\"\\n\")\n",
        "\n",
        "  temp = torch.zeros(row_kernel, column_kernel)\n",
        "  cptJ = 0\n",
        "  cptI = 0\n",
        "\n",
        "  if(column_kernel<column_image):\n",
        "    nbIterationColumn = 1\n",
        "  else:\n",
        "    nbIterationColumn = 0\n",
        "    \n",
        "  if(row_kernel<row_image):\n",
        "    nbIterationRow = 1\n",
        "  else:\n",
        "    nbIterationRow = 0\n",
        "\n",
        "  for i in range(column_kernel, column_image, stride):\n",
        "    nbIterationColumn += 1\n",
        "  for i in range(row_kernel, row_image, stride):\n",
        "    nbIterationRow += 1\n",
        "\n",
        "  #Init output matrix\n",
        "  row_Output,column_Output = val_indice_output(stride, nbIterationRow, nbIterationColumn)\n",
        "  outputMatrix = torch.zeros(row_Output, column_Output)\n",
        "\n",
        "  for i in range (0, nbIterationRow, stride):\n",
        "    for j in range (0, nbIterationColumn, stride):\n",
        "      temp = image[(i*stride):(row_kernel+(i*stride)), (j*stride):(column_kernel+(j*stride))]\n",
        "\n",
        "      mult = torch.mul(temp, kernel)\n",
        "      value = cal_val(mult, row_kernel, column_kernel)\n",
        "\n",
        "      outputMatrix[cptI, cptJ] = value\n",
        "      cptJ += 1 \n",
        "\n",
        "    cptJ = 0\n",
        "    cptI += 1\n",
        "\n",
        "  #print(\"Matrice de sortie :\\n\", outputMatrix,\"\\n\")\n",
        "  return outputMatrix"
      ],
      "execution_count": 0,
      "outputs": []
    },
    {
      "cell_type": "markdown",
      "metadata": {
        "id": "eSzK9V3F1WZG",
        "colab_type": "text"
      },
      "source": [
        "Test de la fonction\n"
      ]
    },
    {
      "cell_type": "code",
      "metadata": {
        "id": "_tTT_m_a2ZlN",
        "colab_type": "code",
        "colab": {
          "base_uri": "https://localhost:8080/",
          "height": 88
        },
        "outputId": "98b2ada8-1257-4a39-a74e-c42e81554323"
      },
      "source": [
        "#Test énoncé\n",
        "stride = 1\n",
        "padding = 1\n",
        "kernel = torch.tensor([[0,-1,0],[-1,5,-1],[0,-1,0]])\n",
        "matrix = torch.tensor([[105, 102, 100, 97, 96], [103, 99, 103, 101, 102], [101, 98, 104, 102, 100],[95, 105, 99, 100, 101],[103, 96, 98, 99, 102]])\n",
        "#kernel = torch.tensor([[0,-1,0,1,0],[-1,5,1,-2,-1], [0,-1,-2,3,0],[1,1,2,-3,0],[0,-2,1,-3,2]])\n",
        "\n",
        "#matrix = torch.randint(95, 105, (15, 15))\n",
        "#print(\"Matrice d'entrée :\\n\", matrix,\"\\n\")\n",
        "\n",
        "\n",
        "device = \"cpu\"\n",
        "#Convolution 2D CPU\n",
        "start_time_CPU = datetime.now()\n",
        "my_2D_Conv_CPU(matrix, kernel, stride, padding).to(device)\n",
        "end_time_CPU = datetime.now()\n",
        "\n",
        "CPU_times = end_time_CPU - start_time_CPU\n",
        "print(\"CPU times: \", CPU_times, \"\\n\")\n",
        "\n",
        "#Convolution 2D GPU\n",
        "if torch.cuda.is_available():\n",
        "  device = torch.device(\"cuda\")\n",
        "\n",
        "  start_time_GPU = datetime.now()\n",
        "  my_2D_Conv_CPU(matrix, kernel, stride, padding).to(device)\n",
        "  end_time_GPU = datetime.now()\n",
        "\n",
        "  GPU_times = end_time_GPU - start_time_GPU\n",
        "  print(\"GPU times: \",GPU_times,\"\\n\")\n",
        "else:\n",
        "  print(\"GPU unavailable\")"
      ],
      "execution_count": 7,
      "outputs": [
        {
          "output_type": "stream",
          "text": [
            "CPU times:  0:00:00.005262 \n",
            "\n",
            "GPU times:  0:00:00.002923 \n",
            "\n"
          ],
          "name": "stdout"
        }
      ]
    },
    {
      "cell_type": "markdown",
      "metadata": {
        "id": "t5t_KWBF3IwL",
        "colab_type": "text"
      },
      "source": [
        "# 2.Fonction de visualisation d'une matrice sous forme d'image\n",
        "\n",
        "  Librairies nécessaires et création des différents filtres:"
      ]
    },
    {
      "cell_type": "code",
      "metadata": {
        "id": "UWRaJf-VJNP-",
        "colab_type": "code",
        "colab": {}
      },
      "source": [
        "%matplotlib inline\n",
        "import matplotlib.pyplot as plt \n",
        "from PIL import Image\n",
        "from torchvision import transforms\n",
        "\n",
        "matrice = torch.tensor([[105, 102, 100, 97, 96], [103, 99, 103, 101, 102], [101, 98, 104, 102, 100],[95, 105, 99, 100, 101],[103, 96, 98, 99, 102]], dtype=torch.short)\n",
        "\n",
        "#filtre 3*3\n",
        "a = torch.tensor([[1,0,1],[0,1,0],[1,0,1]], dtype=torch.short)\n",
        "b = torch.eye(3, dtype=torch.short)\n",
        "c = torch.tensor([[0,0,1],[0,1,0],[1,0,0]])\n",
        "#filtre 5*5\n",
        "a5 = torch.tensor([[1,0,0,0,1],[0,1,0,1,0],[0,0,1,0,0],[0,1,0,1,0],[1,0,0,0,1]], dtype=torch.short)\n",
        "b5 = torch.eye(5, dtype=torch.short)\n",
        "c5 = torch.tensor([[0,0,0,0,1],[0,0,0,1,0],[0,0,1,0,0],[0,1,0,0,0],[1,0,0,0,0]], dtype=torch.short)\n",
        "#filtre 7*7\n",
        "a7 =  torch.tensor([[1,0,0,0,0,0,1],[0,1,0,0,0,1,0],[0,0,1,0,1,0,0],[0,0,0,1,0,0,0],[0,0,1,0,1,0,0],[0,1,0,0,0,1,0],[1,0,0,0,0,0,1]], dtype=torch.short)\n",
        "b7 = torch.eye(7, dtype=torch.short)\n",
        "c7 = torch.tensor([[0,0,0,0,0,0,1],[0,0,0,0,0,1,0],[0,0,0,0,1,0,0],[0,0,0,1,0,0,0],[0,0,1,0,0,0,0],[0,1,0,0,0,0,0],[1,0,0,0,0,0,0]])"
      ],
      "execution_count": 0,
      "outputs": []
    },
    {
      "cell_type": "markdown",
      "metadata": {
        "id": "d5Mp3jQrThxd",
        "colab_type": "text"
      },
      "source": [
        "Fonction visualisation sous forme d'image d'une matrice:"
      ]
    },
    {
      "cell_type": "code",
      "metadata": {
        "id": "QD8x-6ZWTpYU",
        "colab_type": "code",
        "colab": {}
      },
      "source": [
        "def matrix_to_im(matrix):\n",
        "  if (matrix.numel() != 0):\n",
        "    result = transforms.ToPILImage()(matrice)\n",
        "    plt.imshow(result)\n",
        "  else: \n",
        "    print(\"La matrice passé en paramètre est vide: \")\n",
        "\n",
        "def convolution_and_to_im(matrix, kernel, stride, padding):\n",
        "  newMatrix = my_2D_Conv_CPU(matrix, kernel, stride, padding)\n",
        "\n",
        "  if (newMatrix.numel() != 0):\n",
        "    result = transforms.ToPILImage()(newMatrix)\n",
        "    plt.imshow(result)\n",
        "  else: \n",
        "    print(\"Veuillez choisir une autre configuration pour le stride et le padding, car dans cette configuration la matrice en sortie est vide\")"
      ],
      "execution_count": 0,
      "outputs": []
    },
    {
      "cell_type": "markdown",
      "metadata": {
        "id": "Lp7_01Gl4i5e",
        "colab_type": "text"
      },
      "source": [
        "#  3. et 4.\n",
        "**Image avant convolution:**"
      ]
    },
    {
      "cell_type": "code",
      "metadata": {
        "id": "jAwwBJm44p2X",
        "colab_type": "code",
        "colab": {
          "base_uri": "https://localhost:8080/",
          "height": 389
        },
        "outputId": "5f256220-5176-4890-e413-b3e5d53582e7"
      },
      "source": [
        "print(\"Matrice de base : \\n\", matrice, \"\\n\")\n",
        "matrix_to_im(matrice)"
      ],
      "execution_count": 78,
      "outputs": [
        {
          "output_type": "stream",
          "text": [
            "Matrice de base : \n",
            " tensor([[105, 102, 100,  97,  96],\n",
            "        [103,  99, 103, 101, 102],\n",
            "        [101,  98, 104, 102, 100],\n",
            "        [ 95, 105,  99, 100, 101],\n",
            "        [103,  96,  98,  99, 102]], dtype=torch.int16) \n",
            "\n"
          ],
          "name": "stdout"
        },
        {
          "output_type": "display_data",
          "data": {
            "image/png": "[encoded data removed]",
            "text/plain": [
              "<Figure size 432x288 with 1 Axes>"
            ]
          },
          "metadata": {
            "tags": [],
            "needs_background": "light"
          }
        }
      ]
    },
    {
      "cell_type": "markdown",
      "metadata": {
        "id": "OwJtC5p84vk2",
        "colab_type": "text"
      },
      "source": [
        "  - Image de la matrice après convolution avec le filtre a 3x3"
      ]
    },
    {
      "cell_type": "code",
      "metadata": {
        "id": "dSXbR_bP49uX",
        "colab_type": "code",
        "colab": {
          "base_uri": "https://localhost:8080/",
          "height": 265
        },
        "outputId": "4a76a436-b9e7-4a38-9134-c3f92eccc9aa"
      },
      "source": [
        "stride = 1\n",
        "padding = 1\n",
        "convolution_and_to_im(matrice, a, stride, padding)"
      ],
      "execution_count": 96,
      "outputs": [
        {
          "output_type": "display_data",
          "data": {
            "image/png": "[encoded data removed]",
            "text/plain": [
              "<Figure size 432x288 with 1 Axes>"
            ]
          },
          "metadata": {
            "tags": [],
            "needs_background": "light"
          }
        }
      ]
    },
    {
      "cell_type": "markdown",
      "metadata": {
        "id": "rycWfrE_5Acz",
        "colab_type": "text"
      },
      "source": [
        " - Image de la matrice après convolution avec le filtre b 3x3"
      ]
    },
    {
      "cell_type": "code",
      "metadata": {
        "id": "dj3LM0LeSboL",
        "colab_type": "code",
        "outputId": "ce1d89fc-f7f9-4506-9f67-2ecec35f419d",
        "colab": {
          "base_uri": "https://localhost:8080/",
          "height": 265
        }
      },
      "source": [
        "stride = 1\n",
        "padding = 1\n",
        "convolution_and_to_im(matrice, b, stride, padding)"
      ],
      "execution_count": 82,
      "outputs": [
        {
          "output_type": "display_data",
          "data": {
            "image/png": "[encoded data removed]",
            "text/plain": [
              "<Figure size 432x288 with 1 Axes>"
            ]
          },
          "metadata": {
            "tags": [],
            "needs_background": "light"
          }
        }
      ]
    },
    {
      "cell_type": "markdown",
      "metadata": {
        "id": "D-R8vXfu5ZnR",
        "colab_type": "text"
      },
      "source": [
        "  - Image de la matrice après convolution avec le filtre c 3x3"
      ]
    },
    {
      "cell_type": "code",
      "metadata": {
        "id": "8PnfbC3B5aXY",
        "colab_type": "code",
        "colab": {
          "base_uri": "https://localhost:8080/",
          "height": 265
        },
        "outputId": "1e52fa46-dbf8-4166-cf77-433449a684a2"
      },
      "source": [
        "stride = 1\n",
        "padding = 1\n",
        "convolution_and_to_im(matrice, c, stride, padding)"
      ],
      "execution_count": 91,
      "outputs": [
        {
          "output_type": "display_data",
          "data": {
            "image/png": "[encoded data removed]",
            "text/plain": [
              "<Figure size 432x288 with 1 Axes>"
            ]
          },
          "metadata": {
            "tags": [],
            "needs_background": "light"
          }
        }
      ]
    },
    {
      "cell_type": "markdown",
      "metadata": {
        "id": "FepO5JSHaWT4",
        "colab_type": "text"
      },
      "source": [
        "**Remarque:**\n",
        "  On peut observer que les filtres jouent un rôle primordial dans le résultat obtenue après convolution. En effet, sachant que chaque couleur correspond à une valeur différente, on constate que l'image générer conserve le même \"paterne\" que le filtre utilisé. "
      ]
    },
    {
      "cell_type": "markdown",
      "metadata": {
        "id": "H1jcDVUl58CA",
        "colab_type": "text"
      },
      "source": [
        "# 5.\n",
        "**Avec les filtres de taille 5x5 (en changeant le padding à 2 afin de garder les mêmes dimensions en ce qui concerne la matrice de sortie):**"
      ]
    },
    {
      "cell_type": "markdown",
      "metadata": {
        "id": "aYOxMNbz6D8z",
        "colab_type": "text"
      },
      "source": [
        "- Filtre a"
      ]
    },
    {
      "cell_type": "code",
      "metadata": {
        "id": "YZBymhmm6FT3",
        "colab_type": "code",
        "colab": {
          "base_uri": "https://localhost:8080/",
          "height": 265
        },
        "outputId": "ae706e3f-2d2a-4dee-f49f-1f9459a5e45e"
      },
      "source": [
        "stride = 1\n",
        "padding = 2\n",
        "convolution_and_to_im(matrice, a5, stride, padding)"
      ],
      "execution_count": 84,
      "outputs": [
        {
          "output_type": "display_data",
          "data": {
            "image/png": "[encoded data removed]",
            "text/plain": [
              "<Figure size 432x288 with 1 Axes>"
            ]
          },
          "metadata": {
            "tags": [],
            "needs_background": "light"
          }
        }
      ]
    },
    {
      "cell_type": "markdown",
      "metadata": {
        "id": "xJxXbPCo6SL4",
        "colab_type": "text"
      },
      "source": [
        "- Filtre b"
      ]
    },
    {
      "cell_type": "code",
      "metadata": {
        "id": "vCz9S4IK6Tl7",
        "colab_type": "code",
        "colab": {
          "base_uri": "https://localhost:8080/",
          "height": 265
        },
        "outputId": "413b3ff6-c8b0-4a43-9cf9-ada9b3c65127"
      },
      "source": [
        "stride = 1\n",
        "padding = 2\n",
        "convolution_and_to_im(matrice, b5, stride, padding)"
      ],
      "execution_count": 85,
      "outputs": [
        {
          "output_type": "display_data",
          "data": {
            "image/png": "[encoded data removed]",
            "text/plain": [
              "<Figure size 432x288 with 1 Axes>"
            ]
          },
          "metadata": {
            "tags": [],
            "needs_background": "light"
          }
        }
      ]
    },
    {
      "cell_type": "markdown",
      "metadata": {
        "id": "FQ2ks_oD6agY",
        "colab_type": "text"
      },
      "source": [
        "- Filtre c"
      ]
    },
    {
      "cell_type": "code",
      "metadata": {
        "id": "4A2qtZoA67qD",
        "colab_type": "code",
        "colab": {
          "base_uri": "https://localhost:8080/",
          "height": 265
        },
        "outputId": "bc1b4ac3-0dc9-4821-b537-8614cd766fbc"
      },
      "source": [
        "stride = 1\n",
        "padding = 2\n",
        "convolution_and_to_im(matrice, c5, stride, padding)"
      ],
      "execution_count": 86,
      "outputs": [
        {
          "output_type": "display_data",
          "data": {
            "image/png": "[encoded data removed]",
            "text/plain": [
              "<Figure size 432x288 with 1 Axes>"
            ]
          },
          "metadata": {
            "tags": [],
            "needs_background": "light"
          }
        }
      ]
    },
    {
      "cell_type": "markdown",
      "metadata": {
        "id": "WtBQr3uy7CMb",
        "colab_type": "text"
      },
      "source": [
        "**Avec les filtres de taille 7x7 (padding = 3):**\n"
      ]
    },
    {
      "cell_type": "markdown",
      "metadata": {
        "id": "WdssCdL8I-rz",
        "colab_type": "text"
      },
      "source": [
        "- Filtre a 7x7"
      ]
    },
    {
      "cell_type": "code",
      "metadata": {
        "id": "In2v7quN7Gz7",
        "colab_type": "code",
        "colab": {
          "base_uri": "https://localhost:8080/",
          "height": 265
        },
        "outputId": "dadd81d1-b361-4e1e-d64b-948804a0a4ff"
      },
      "source": [
        "stride = 1\n",
        "padding = 3\n",
        "convolution_and_to_im(matrice, a7, stride, padding)"
      ],
      "execution_count": 87,
      "outputs": [
        {
          "output_type": "display_data",
          "data": {
            "image/png": "[encoded data removed]",
            "text/plain": [
              "<Figure size 432x288 with 1 Axes>"
            ]
          },
          "metadata": {
            "tags": [],
            "needs_background": "light"
          }
        }
      ]
    },
    {
      "cell_type": "markdown",
      "metadata": {
        "id": "CgOPmUszJBV_",
        "colab_type": "text"
      },
      "source": [
        "- Filtre b 7x7"
      ]
    },
    {
      "cell_type": "code",
      "metadata": {
        "id": "lxfY_C05JE-0",
        "colab_type": "code",
        "colab": {
          "base_uri": "https://localhost:8080/",
          "height": 265
        },
        "outputId": "8bf3b2e3-bae8-4a86-ee46-51027f884b30"
      },
      "source": [
        "stride = 1\n",
        "padding = 3\n",
        "convolution_and_to_im(matrice, b7, stride, padding)"
      ],
      "execution_count": 88,
      "outputs": [
        {
          "output_type": "display_data",
          "data": {
            "image/png": "[encoded data removed]",
            "text/plain": [
              "<Figure size 432x288 with 1 Axes>"
            ]
          },
          "metadata": {
            "tags": [],
            "needs_background": "light"
          }
        }
      ]
    },
    {
      "cell_type": "markdown",
      "metadata": {
        "id": "shPVV-pSJFJW",
        "colab_type": "text"
      },
      "source": [
        "- Filtre c 7x7"
      ]
    },
    {
      "cell_type": "code",
      "metadata": {
        "id": "zYfiZuSBJHf4",
        "colab_type": "code",
        "colab": {
          "base_uri": "https://localhost:8080/",
          "height": 265
        },
        "outputId": "b918a967-25a8-4635-8255-4878d954c2a2"
      },
      "source": [
        "stride = 1\n",
        "padding = 3\n",
        "convolution_and_to_im(matrice, c7, stride, padding)"
      ],
      "execution_count": 89,
      "outputs": [
        {
          "output_type": "display_data",
          "data": {
            "image/png": "[encoded data removed]",
            "text/plain": [
              "<Figure size 432x288 with 1 Axes>"
            ]
          },
          "metadata": {
            "tags": [],
            "needs_background": "light"
          }
        }
      ]
    },
    {
      "cell_type": "markdown",
      "metadata": {
        "id": "YfpcUVKWcjwk",
        "colab_type": "text"
      },
      "source": [
        "# 6. Comparaison des temps de traitement\n",
        "\n",
        "  Reprise du code en haut pour la comparaison des temps et la construction de l'histogramme:"
      ]
    },
    {
      "cell_type": "code",
      "metadata": {
        "id": "1DOsrwTXc1Nb",
        "colab_type": "code",
        "colab": {
          "base_uri": "https://localhost:8080/",
          "height": 88
        },
        "outputId": "34dfebe0-7079-4bdd-da02-c13131253d42"
      },
      "source": [
        "device = \"cpu\"\n",
        "#Convolution 2D CPU\n",
        "start_time_CPU = datetime.now()\n",
        "my_2D_Conv_CPU(matrix, kernel, stride, padding).to(device)\n",
        "end_time_CPU = datetime.now()\n",
        "\n",
        "convolution_CPU = end_time_CPU - start_time_CPU\n",
        "print(\"CPU times: \", convolution_CPU, \"\\n\")\n",
        "\n",
        "#Convolution 2D GPU\n",
        "if torch.cuda.is_available():\n",
        "  device = torch.device(\"cuda\")\n",
        "\n",
        "  start_time_GPU = datetime.now()\n",
        "  my_2D_Conv_CPU(matrix, kernel, stride, padding).to(device)\n",
        "  end_time_GPU = datetime.now()\n",
        "\n",
        "  convolution_GPU = end_time_GPU - start_time_GPU\n",
        "  print(\"GPU times: \",convolution_GPU,\"\\n\")\n",
        "else:\n",
        "  print(\"GPU unavailable\")"
      ],
      "execution_count": 105,
      "outputs": [
        {
          "output_type": "stream",
          "text": [
            "CPU times:  0:00:00.005197 \n",
            "\n",
            "GPU times:  0:00:00.003108 \n",
            "\n"
          ],
          "name": "stdout"
        }
      ]
    },
    {
      "cell_type": "markdown",
      "metadata": {
        "id": "MVLkUYI4c1nm",
        "colab_type": "text"
      },
      "source": [
        "Génération de l'histogramme:"
      ]
    },
    {
      "cell_type": "code",
      "metadata": {
        "id": "Ev9kT5IAcobE",
        "colab_type": "code",
        "colab": {
          "base_uri": "https://localhost:8080/",
          "height": 280
        },
        "outputId": "7147e0a3-8911-4f4f-9265-e4c45f3a662a"
      },
      "source": [
        "%matplotlib inline\n",
        "import matplotlib.pyplot as plt\n",
        "width = 0.5\n",
        "\n",
        "convolution_CPU = convolution_CPU.total_seconds()\n",
        "convolution_GPU = convolution_GPU.total_seconds()\n",
        "\n",
        "mesures = {\"CPU_times\":convolution_CPU, \"GPU_times\":convolution_GPU}\n",
        "plt.bar(mesures.keys(), mesures.values(), width, color='r')\n",
        "plt.xlabel(\"Convolution par plateforme\")\n",
        "plt.ylabel(\"Temps d'exécution\")\n",
        "plt.grid(b=True, which='major', axis='both', linestyle='--')\n",
        "plt.show()"
      ],
      "execution_count": 103,
      "outputs": [
        {
          "output_type": "display_data",
          "data": {
            "image/png": "[encoded data removed]",
            "text/plain": [
              "<Figure size 432x288 with 1 Axes>"
            ]
          },
          "metadata": {
            "tags": [],
            "needs_background": "light"
          }
        }
      ]
    },
    {
      "cell_type": "markdown",
      "metadata": {
        "id": "yKngofk4e5MN",
        "colab_type": "text"
      },
      "source": [
        "Encore une fois comme pour les opérations élémentaires, les différences entre les temps de calculs CPU/GPU ne sont pas significatives si les traitements demandés ne sont pas importants mais dès que les matrices et les calculs deviennent importants on constate une très net différence et un gain de temps considérable avec les GPU."
      ]
    }
  ]
}